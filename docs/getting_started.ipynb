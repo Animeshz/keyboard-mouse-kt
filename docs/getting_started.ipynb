{
 "cells": [
  {
   "cell_type": "code",
   "execution_count": 4,
   "id": "rocky-concentrate",
   "metadata": {},
   "outputs": [],
   "source": [
    "@file:DependsOn(\"io.github.animeshz:keyboard-kt-jvm:0.3.3\")\n",
    "\n",
    "import io.github.animeshz.keyboard.*\n",
    "import io.github.animeshz.keyboard.entity.*"
   ]
  },
  {
   "cell_type": "code",
   "execution_count": null,
   "id": "chronic-banking",
   "metadata": {},
   "outputs": [],
   "source": [
    "val keyboard = Keyboard"
   ]
  },
  {
   "cell_type": "code",
   "execution_count": null,
   "id": "driven-bachelor",
   "metadata": {},
   "outputs": [],
   "source": [
    "keyboard.addShortcut(Key.RightCtrl + Key.RightShift) { println(\"Hello\") }\n",
    "println(\"Click RightCtrl + RightShift to print Hello\")\n",
    "runBlocking { delay(10_000) }"
   ]
  },
  {
   "cell_type": "code",
   "execution_count": null,
   "id": "proud-estimate",
   "metadata": {},
   "outputs": [],
   "source": [
    "println(\"Press Enter anywhere to write a secret there.\")\n",
    "runBlocking {\n",
    "    keyboard.triggerWhen(KeySet(Key.Enter)) {\n",
    "        keyboard.write(\"The quick brown fox jumps over the lazy dog.\")\n",
    "    }\n",
    "}"
   ]
  }
 ],
 "metadata": {
  "kernelspec": {
   "display_name": "Kotlin",
   "language": "kotlin",
   "name": "kotlin"
  },
  "language_info": {
   "codemirror_mode": "text/x-kotlin",
   "file_extension": ".kt",
   "mimetype": "text/x-kotlin",
   "name": "kotlin",
   "pygments_lexer": "kotlin",
   "version": "1.5.0-dev-1206"
  }
 },
 "nbformat": 4,
 "nbformat_minor": 5
}

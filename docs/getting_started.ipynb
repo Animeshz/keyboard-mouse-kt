{
 "cells": [
  {
   "cell_type": "code",
   "execution_count": null,
   "id": "recent-reflection",
   "metadata": {},
   "outputs": [],
   "source": [
    "@file:Repository(\"https://dl.bintray.com/animeshz/maven\")\n",
    "@file:DependsOn(\"com.github.animeshz:keyboard-kt-jvm:<version>\")\n",
    "\n",
    "import com.github.animeshz.keyboard.*\n",
    "import com.github.animeshz.keyboard.entity.*\n",
    "import com.github.animeshz.keyboard.events.*\n",
    "\n",
    "import kotlinx.coroutines.*"
   ]
  },
  {
   "cell_type": "code",
   "execution_count": null,
   "id": "selective-snapshot",
   "metadata": {},
   "outputs": [],
   "source": [
    "val keyboard = Keyboard()"
   ]
  },
  {
   "cell_type": "code",
   "execution_count": null,
   "id": "designed-edition",
   "metadata": {},
   "outputs": [],
   "source": [
    "keyboard.addShortcut(Key.RightCtrl + Key.RightShift) { println(\"Hello\") }\n",
    "println(\"Click RightCtrl + RightShift to print Hello\")\n",
    "runBlocking { delay(10_000) }"
   ]
  },
  {
   "cell_type": "code",
   "execution_count": null,
   "id": "fossil-merit",
   "metadata": {},
   "outputs": [],
   "source": [
    "println(\"Press Enter anywhere to write a secret there.\")\n",
    "runBlocking { keyboard.awaitTill(KeySet(Key.Enter)) }\n",
    "keyboard.write(\"The quick brown fox jumps over the lazy dog.\")"
   ]
  }
 ],
 "metadata": {
  "kernelspec": {
   "display_name": "Kotlin",
   "language": "kotlin",
   "name": "kotlin"
  },
  "language_info": {
   "codemirror_mode": "text/x-kotlin",
   "file_extension": ".kt",
   "mimetype": "text/x-kotlin",
   "name": "kotlin",
   "pygments_lexer": "kotlin",
   "version": "1.5.0-dev-1206"
  }
 },
 "nbformat": 4,
 "nbformat_minor": 5
}
